{
 "cells": [
  {
   "cell_type": "markdown",
   "id": "f5ee3097-7c0a-46f8-97f7-78bbda0e01a1",
   "metadata": {},
   "source": [
    "## Q1. Create a Pandas Series that contains the following data: 4, 8, 15, 16, 23, and 42. Then, print the series."
   ]
  },
  {
   "cell_type": "code",
   "execution_count": 1,
   "id": "7687ff88-15cb-477b-b9b3-b2b249328d46",
   "metadata": {},
   "outputs": [
    {
     "name": "stdout",
     "output_type": "stream",
     "text": [
      "0     4\n",
      "1     8\n",
      "2    15\n",
      "3    16\n",
      "4    23\n",
      "5    42\n",
      "dtype: int64\n"
     ]
    }
   ],
   "source": [
    "import pandas as pd\n",
    "\n",
    "data = [4, 8, 15, 16, 23, 42]\n",
    "series = pd.Series(data)\n",
    "print(series)\n"
   ]
  },
  {
   "cell_type": "markdown",
   "id": "b8bac8e4-a1e7-4ab4-9264-68ab9bc64226",
   "metadata": {},
   "source": [
    "## 2,Create a variable of list type containing 10 elements in it, and apply pandas.Series function on the variable print it."
   ]
  },
  {
   "cell_type": "code",
   "execution_count": 2,
   "id": "13fbe755-f5a1-4fa1-94f7-967aea367468",
   "metadata": {},
   "outputs": [
    {
     "name": "stdout",
     "output_type": "stream",
     "text": [
      "0     1\n",
      "1     2\n",
      "2     3\n",
      "3     4\n",
      "4     5\n",
      "5     6\n",
      "6     7\n",
      "7     8\n",
      "8     9\n",
      "9    10\n",
      "dtype: int64\n"
     ]
    }
   ],
   "source": [
    "import pandas as pd\n",
    "\n",
    "my_list = [1, 2, 3, 4, 5, 6, 7, 8, 9, 10]\n",
    "series = pd.Series(my_list)\n",
    "print(series)\n"
   ]
  },
  {
   "cell_type": "markdown",
   "id": "561a2f48-4233-42d4-8293-ca2606abc499",
   "metadata": {},
   "source": [
    "## 3.Create a Pandas DataFrame that contains"
   ]
  },
  {
   "cell_type": "code",
   "execution_count": 5,
   "id": "b6bdcee1-4a54-489a-acbb-c91f4ffaf345",
   "metadata": {},
   "outputs": [
    {
     "name": "stdout",
     "output_type": "stream",
     "text": [
      "     Name  Age  Gender\n",
      "0   alice   25  female\n",
      "1     bob   30    male\n",
      "2  clarie   27  female\n"
     ]
    }
   ],
   "source": [
    "import pandas as pd\n",
    "\n",
    "#creating the DataFrame\n",
    "data ={\n",
    "    'Name' : ['alice','bob','clarie'],\n",
    "    'Age' : [25,30,27],\n",
    "    'Gender' :['female','male','female']\n",
    "}\n",
    "\n",
    "df = pd.DataFrame(data)\n",
    "\n",
    "# printing the DataFrames\n",
    "print (df)"
   ]
  },
  {
   "cell_type": "markdown",
   "id": "1d4edb13-c72d-406f-8977-4a5d7e0302f5",
   "metadata": {},
   "source": [
    "## 4. What is ‘DataFrame’ in pandas and how is it different from pandas.series? Explain with an example."
   ]
  },
  {
   "cell_type": "code",
   "execution_count": null,
   "id": "4a7a5e05-106a-4bdd-8d6c-85cec6f7c214",
   "metadata": {},
   "outputs": [],
   "source": [
    "-In Pandas, a DataFrame is a two-dimensional data structure that represents tabular data. It consists of rows and columns, \n",
    " similar to a spreadsheet or a SQL table. A DataFrame is designed to handle structured and heterogeneous data, where each \n",
    "column can have a different data type.\n",
    "\n",
    "-On the other hand, a Series is a one-dimensional data structure in Pandas that represents a single column or a single row of \n",
    " data. It is similar to a NumPy array, but with additional functionality and labeled indices. A Series can contain homogeneous\n",
    "data of a single data type."
   ]
  },
  {
   "cell_type": "markdown",
   "id": "89260147-be9d-4e60-ae7e-a7f4bff7d427",
   "metadata": {},
   "source": [
    "### example"
   ]
  },
  {
   "cell_type": "code",
   "execution_count": 6,
   "id": "4be7e1bf-8185-4de4-b42d-06723e4ae822",
   "metadata": {},
   "outputs": [
    {
     "name": "stdout",
     "output_type": "stream",
     "text": [
      "0    10\n",
      "1    20\n",
      "2    30\n",
      "3    40\n",
      "4    50\n",
      "dtype: int64\n"
     ]
    }
   ],
   "source": [
    "import pandas as pd\n",
    "\n",
    "# Creating a Series\n",
    "series = pd.Series([10, 20, 30, 40, 50])\n",
    "print(series)\n"
   ]
  },
  {
   "cell_type": "markdown",
   "id": "2d9afd4f-8ced-4e0d-8520-e2fd91730988",
   "metadata": {},
   "source": [
    "## 5.What are some common functions you can use to manipulate data in a Pandas DataFrame? Canyou give an example of when you might use one of these functions?"
   ]
  },
  {
   "cell_type": "code",
   "execution_count": null,
   "id": "424ba813-0155-49d7-aa99-6e6a24806c63",
   "metadata": {},
   "outputs": [],
   "source": [
    "Pandas provides a wide range of functions to manipulate data in a DataFrame. Some common functions include:\n",
    " \n",
    "-head() and tail(): These functions are used to display the first few rows (head()) or the last few rows (tail()) of a \n",
    " DataFrame. They are useful for quickly inspecting the data.\n",
    "\n",
    "-shape: This function returns the dimensions of the DataFrame, i.e., the number of rows and columns.\n",
    "\n",
    "-describe(): This function generates descriptive statistics of the numerical columns in the DataFrame, such as count, mean, \n",
    " standard deviation, minimum, maximum, and quartiles.\n",
    "\n",
    "-sort_values(): This function is used to sort the DataFrame by one or more columns. It allows sorting in ascending or\n",
    " descending order.\n",
    "\n",
    "-groupby(): This function is used to group the data based on one or more columns and perform aggregations or computations on \n",
    " the grouped data.\n"
   ]
  },
  {
   "cell_type": "markdown",
   "id": "1de175e5-249f-4d21-8dd0-f425ce46d392",
   "metadata": {},
   "source": [
    "### head()"
   ]
  },
  {
   "cell_type": "code",
   "execution_count": null,
   "id": "52b182da-8114-4937-98d8-0198a6640361",
   "metadata": {},
   "outputs": [],
   "source": [
    "import pandas as pd\n",
    "\n",
    "df = pd.read_csv('data.csv')  \n",
    "print(df.head())  \n",
    "print(df.tail())  \n"
   ]
  },
  {
   "cell_type": "markdown",
   "id": "95280163-f2af-48c2-ae6f-db60d59cac65",
   "metadata": {},
   "source": [
    "### shape()"
   ]
  },
  {
   "cell_type": "code",
   "execution_count": null,
   "id": "26ad1a50-7c14-4a97-9f12-abed04f2b3f5",
   "metadata": {},
   "outputs": [],
   "source": [
    "import pandas as pd\n",
    "\n",
    "df = pd.read_csv('data.csv')\n",
    "print(df.shape)  "
   ]
  },
  {
   "cell_type": "markdown",
   "id": "313e91ce-2aa4-4286-ac88-b7d1940f1cac",
   "metadata": {},
   "source": [
    "### describe()"
   ]
  },
  {
   "cell_type": "code",
   "execution_count": null,
   "id": "94fd4261-90e2-4ebc-a17e-de84e3195b95",
   "metadata": {},
   "outputs": [],
   "source": [
    "import pandas as pd\n",
    "\n",
    "df = pd.read_csv('data.csv')\n",
    "print(df.describe())  "
   ]
  },
  {
   "cell_type": "markdown",
   "id": "a362c049-aa06-47ed-9f6d-123b7b8146a2",
   "metadata": {},
   "source": [
    "### sort_values()"
   ]
  },
  {
   "cell_type": "code",
   "execution_count": null,
   "id": "92de358c-e47d-408a-a103-3790a473dab9",
   "metadata": {},
   "outputs": [],
   "source": [
    "import pandas as pd\n",
    "\n",
    "df = pd.read_csv('data.csv')\n",
    "sorted_df = df.sort_values('age')\n",
    "print(sorted_df)"
   ]
  },
  {
   "cell_type": "markdown",
   "id": "bd435270-4ebd-4093-83cc-d39387837f5d",
   "metadata": {},
   "source": [
    "### groupby()"
   ]
  },
  {
   "cell_type": "code",
   "execution_count": null,
   "id": "d0d7ef6a-b769-447f-9e4b-5c5785d49b94",
   "metadata": {},
   "outputs": [],
   "source": [
    "import pandas as pd\n",
    "\n",
    "df = pd.read_csv('data.csv')\n",
    "grouped_df = df.groupby('city').mean() \n",
    "print(grouped_df)"
   ]
  },
  {
   "cell_type": "markdown",
   "id": "b90c2a25-b3b3-4030-93de-57652fdceb1f",
   "metadata": {},
   "source": [
    "## 6.Which of the following is mutable in nature Series, DataFrame, Panel?"
   ]
  },
  {
   "cell_type": "code",
   "execution_count": null,
   "id": "497f0d28-ed5b-482c-a1e2-d11d4cb6a4d1",
   "metadata": {},
   "outputs": [],
   "source": [
    "Among the options provided, both Series and DataFrame are mutable in nature in Pandas, while Panel is not.\n",
    "\n",
    "-Series: A Series in Pandas is a one-dimensional labeled array that can hold any data type. It is mutable, meaning you can\n",
    " modify the values within a Series.\n",
    "\n",
    "-DataFrame: A DataFrame in Pandas is a two-dimensional labeled data structure, similar to a table or a spreadsheet. It consists\n",
    " of columns, each of which can hold different data types. Like Series, DataFrame is also mutable, allowing you to modify the \n",
    "values, add or remove columns, and perform various operations on the data.\n",
    "\n",
    "-Panel: A Panel in Pandas is a three-dimensional data structure, which can be thought of as a container for multiple\n",
    " DataFrames. However, as of Pandas version 1.0.0, the Panel class is deprecated and no longer recommended for general use. It\n",
    "is recommended to use multi-indexing with a DataFrame or the xarray package for three-dimensional data."
   ]
  },
  {
   "cell_type": "markdown",
   "id": "4fed1552-1742-4cce-9adc-33b758fd04c8",
   "metadata": {},
   "source": [
    "## 7.Create a DataFrame using multiple Series. Explain with an example."
   ]
  },
  {
   "cell_type": "code",
   "execution_count": null,
   "id": "8f97dbbf-ee8a-4a11-b7a8-279d026f5388",
   "metadata": {},
   "outputs": [],
   "source": [
    "To create a DataFrame using multiple Series, you can pass a dictionary of Series objects to the pd.DataFrame() constructor. \n",
    "Each Series will represent a column in the DataFrame, and the keys of the dictionary will be used as column names."
   ]
  },
  {
   "cell_type": "code",
   "execution_count": 9,
   "id": "b53b4f4b-9e5d-4b84-a4c7-9911799ff712",
   "metadata": {},
   "outputs": [
    {
     "name": "stdout",
     "output_type": "stream",
     "text": [
      "   Column1 Column2  Column3\n",
      "0        1       a     True\n",
      "1        2       b    False\n",
      "2        3       c     True\n",
      "3        4       d    False\n",
      "4        5       e     True\n"
     ]
    }
   ],
   "source": [
    "import pandas as pd\n",
    "\n",
    "# Create Series objects\n",
    "series1 = pd.Series([1, 2, 3, 4, 5])\n",
    "series2 = pd.Series(['a', 'b', 'c', 'd', 'e'])\n",
    "series3 = pd.Series([True, False, True, False, True])\n",
    "\n",
    "# Create DataFrame using Series\n",
    "df = pd.DataFrame({\n",
    "    'Column1': series1,\n",
    "    'Column2': series2,\n",
    "    'Column3': series3\n",
    "})\n",
    "\n",
    "# Print the DataFrame\n",
    "print(df)"
   ]
  }
 ],
 "metadata": {
  "kernelspec": {
   "display_name": "Python 3 (ipykernel)",
   "language": "python",
   "name": "python3"
  },
  "language_info": {
   "codemirror_mode": {
    "name": "ipython",
    "version": 3
   },
   "file_extension": ".py",
   "mimetype": "text/x-python",
   "name": "python",
   "nbconvert_exporter": "python",
   "pygments_lexer": "ipython3",
   "version": "3.10.8"
  }
 },
 "nbformat": 4,
 "nbformat_minor": 5
}
